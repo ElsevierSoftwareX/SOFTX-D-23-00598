{
 "cells": [
  {
   "cell_type": "markdown",
   "id": "5677b81c",
   "metadata": {},
   "source": [
    "#  PySOQCS Example 5: Boson sampling example."
   ]
  },
  {
   "cell_type": "markdown",
   "id": "d4ff6a12",
   "metadata": {},
   "source": [
    "Example of boson sampling for a for a randomly generated circuit. The results are compared with the exact calculation."
   ]
  },
  {
   "cell_type": "markdown",
   "id": "27525e1b",
   "metadata": {},
   "source": [
    "## Description"
   ]
  },
  {
   "cell_type": "markdown",
   "id": "1060dc45",
   "metadata": {},
   "source": [
    "<p style='text-align: justify;'>In this example a random circuit of four channels is generated and two photons are created, one in each of the first two channels. An exact calculation of the output is then carried out using one of the SOQCS cores/backends an also an approximated calculation by sampling using Clifford A algorithm [1]. Both results are printed for comparison.</p>\n",
    "<br>\n",
    "<br>\n",
    "[1] Peter Clifford and Raphael Clifford. <it>The Classical Complexity of Boson Sampling</it>, <b>arXiv:1706.01260</b> pages 146:155. "
   ]
  },
  {
   "cell_type": "markdown",
   "id": "f2ba3e87",
   "metadata": {},
   "source": [
    "## Code"
   ]
  },
  {
   "cell_type": "markdown",
   "id": "d9e7e81a",
   "metadata": {},
   "source": [
    "Import the library."
   ]
  },
  {
   "cell_type": "code",
   "execution_count": 1,
   "id": "5ec5a71c",
   "metadata": {},
   "outputs": [],
   "source": [
    "import pysoqcs as soqcs"
   ]
  },
  {
   "cell_type": "markdown",
   "id": "6a7ef347",
   "metadata": {},
   "source": [
    "Configure the maximum number of photons in the simulation."
   ]
  },
  {
   "cell_type": "code",
   "execution_count": 2,
   "id": "21151c56",
   "metadata": {},
   "outputs": [],
   "source": [
    "soqcs.cfg_soqcs(2)"
   ]
  },
  {
   "cell_type": "markdown",
   "id": "d73a1752",
   "metadata": {},
   "source": [
    "Build the circuit."
   ]
  },
  {
   "cell_type": "code",
   "execution_count": 3,
   "id": "d1a2a4eb",
   "metadata": {},
   "outputs": [],
   "source": [
    "example = soqcs.qocircuit(4)\n",
    "photons = soqcs.ph_bunch(example.num_levels(),1)\n",
    "photons.add_photons(1,0, example)\n",
    "photons.add_photons(1,1, example)\n",
    "photons.send2circuit('G',0,example)\n",
    "example.random_circuit()\n",
    "example.detector(0)\n",
    "example.detector(1)"
   ]
  },
  {
   "cell_type": "markdown",
   "id": "02c26d17",
   "metadata": {},
   "source": [
    "Create a simulator:\n",
    "\n",
    "    - First, perform a simulatiom\n",
    "    - Second perform a sampling procedure."
   ]
  },
  {
   "cell_type": "code",
   "execution_count": 4,
   "id": "1132fded",
   "metadata": {},
   "outputs": [],
   "source": [
    "sim = soqcs.simulator()                       # Create the simulator \n",
    "apdexact=sim.run(photons,example)             # Run a simulation\n",
    "apdsample=sim.sample(photons,example,1000000) # Run a sampling procedure with one million samples."
   ]
  },
  {
   "cell_type": "markdown",
   "id": "fb08eb71",
   "metadata": {},
   "source": [
    "Print the results. <br>\n",
    "<b> Warning! </b>The results may not be printed in the same order for the two different calculations."
   ]
  },
  {
   "cell_type": "markdown",
   "id": "f861503c",
   "metadata": {},
   "source": [
    "Exact calculation:"
   ]
  },
  {
   "cell_type": "code",
   "execution_count": 5,
   "id": "15070f8e",
   "metadata": {},
   "outputs": [
    {
     "data": {
      "image/png": "[encoded data removed]",
      "text/plain": [
       "<Figure size 432x288 with 1 Axes>"
      ]
     },
     "metadata": {
      "needs_background": "light"
     },
     "output_type": "display_data"
    }
   ],
   "source": [
    "apdexact.show()"
   ]
  },
  {
   "cell_type": "markdown",
   "id": "1bed18b1",
   "metadata": {},
   "source": [
    "Sampling:"
   ]
  },
  {
   "cell_type": "code",
   "execution_count": 6,
   "id": "af674b0e",
   "metadata": {},
   "outputs": [
    {
     "data": {
      "image/png": "[encoded data removed]",
      "text/plain": [
       "<Figure size 432x288 with 1 Axes>"
      ]
     },
     "metadata": {
      "needs_background": "light"
     },
     "output_type": "display_data"
    }
   ],
   "source": [
    "apdsample.show()"
   ]
  },
  {
   "cell_type": "markdown",
   "id": "1ee62073",
   "metadata": {},
   "source": [
    "<b> THIS CODE IS PART OF SOQCS </p>\n",
    "<b>Copyright:</b>\n",
    "Copyright © 2022 National University of Ireland Maynooth, Maynooth University. All rights reserved.\n",
    "The contents and use of this document and the related code are subject to the licence terms detailed in <a href=\"./assets/LICENCE.TXT\">LICENCE.txt</a>"
   ]
  }
 ],
 "metadata": {
  "kernelspec": {
   "display_name": "Python 3",
   "language": "python",
   "name": "python3"
  },
  "language_info": {
   "codemirror_mode": {
    "name": "ipython",
    "version": 3
   },
   "file_extension": ".py",
   "mimetype": "text/x-python",
   "name": "python",
   "nbconvert_exporter": "python",
   "pygments_lexer": "ipython3",
   "version": "3.8.8"
  }
 },
 "nbformat": 4,
 "nbformat_minor": 5
}
