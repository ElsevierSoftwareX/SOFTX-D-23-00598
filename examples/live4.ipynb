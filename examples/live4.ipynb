{
 "cells": [
  {
   "cell_type": "markdown",
   "id": "d06baf83",
   "metadata": {},
   "source": [
    "#  PySOQCS Example 4: HOM Visibility simulation of a 2x2 MMI beamsplitter."
   ]
  },
  {
   "cell_type": "markdown",
   "id": "a767a70e",
   "metadata": {},
   "source": [
    "   Example of a HOM visibility calculation using a physical beamsplitter and physical detectors. Losses in in the photon propagation are also considered.<br>\n"
   ]
  },
  {
   "cell_type": "markdown",
   "id": "aef6a290",
   "metadata": {},
   "source": [
    "## Description:"
   ]
  },
  {
   "cell_type": "markdown",
   "id": "1ca2492b",
   "metadata": {},
   "source": [
    "<p style='text-align: justify;'> We simulate a circuit made of a 2x2 MMI beamsplitter with two photons of Gaussian shape in each of the input channels. We consider the time, frequency and width given in random adimensional units. At  the output we print the probability of having two photons in two different channels depending on the delay time between them. For delay dt=0 both photons are indistinguishable and the probability at the output is zero in ideal conditions. We consider time dependent losses in one of the channels and physical detectors that consider effects of efficiency, detector dead time, and dark counts. Furthermore we also include the effect of the presence of a white Gaussian noise over the output. This is a Python version of <b>live4.cpp</b> that can be found in the same folder.</p>"
   ]
  },
  {
   "cell_type": "markdown",
   "id": "5e98ec10",
   "metadata": {},
   "source": [
    "## Code:"
   ]
  },
  {
   "cell_type": "markdown",
   "id": "e389e592",
   "metadata": {},
   "source": [
    "Import SOQCS and some extra libraries needed to print the results."
   ]
  },
  {
   "cell_type": "code",
   "execution_count": 1,
   "id": "5f976a0f",
   "metadata": {},
   "outputs": [],
   "source": [
    "import pysoqcs as soqcs\n",
    "import numpy as np\n",
    "import matplotlib.pyplot as plt\n",
    "from matplotlib.ticker import AutoMinorLocator"
   ]
  },
  {
   "cell_type": "markdown",
   "id": "5c0ffbac",
   "metadata": {},
   "source": [
    "## SOQCS Circuit"
   ]
  },
  {
   "cell_type": "markdown",
   "id": "8a09c256",
   "metadata": {},
   "source": [
    "<p style='text-align: justify;'> Function that contains the SOQCS calculation of the HOM visibility of a MMI beamspliter for a delay dt between the input photons. <br>\n",
    "<br>\n",
    "<b>Note: </b> This is not the most\n",
    "efficient implementation.  All the objects have to be recreated for each point calculation. This code is implemented for demonstration purposes therefore it is intended to be simple. </p>"
   ]
  },
  {
   "cell_type": "code",
   "execution_count": 2,
   "id": "9d83d972",
   "metadata": {},
   "outputs": [],
   "source": [
    "def HOMP(dt,args):\n",
    "    #Build the circuit\n",
    "    example = soqcs.qodev(nph=2,nch=2,nm=1,ns=2,clock=0,R=10000,loss=True);\n",
    "    example.add_photons(1,0,0, 0.0, 1.0,1.0)\n",
    "    example.add_photons(1,1,0,  dt, 1.0,1.0)\n",
    "    \n",
    "    example.loss(1, 0.3*(args[0]+dt)/(2*args[0]))\n",
    "    example.MMI2(0,1)\n",
    "    example.detector(0,-1,-1,-1,-1,0.85,0.1,0.4);\n",
    "    example.detector(1,-1,-1,-1,-1,0.85,0.1,0.4);\n",
    "    example.noise(0.0001)\n",
    "    \n",
    "\n",
    "    # Create a simulator and run the simulation\n",
    "    sim=soqcs.simulator()\n",
    "    measured=sim.run(example)\n",
    "    \n",
    "    # Return the probability\n",
    "    term=[[0,1],\n",
    "          [1,1]]\n",
    "    prob=measured.prob(term,example)    \n",
    "    \n",
    "    return prob"
   ]
  },
  {
   "cell_type": "markdown",
   "id": "ff6a14ee",
   "metadata": {},
   "source": [
    "## Main program: Plotter"
   ]
  },
  {
   "cell_type": "markdown",
   "id": "5ac4d1a6",
   "metadata": {},
   "source": [
    "This is the main program where the HOM Visibility probability is plotted."
   ]
  },
  {
   "cell_type": "code",
   "execution_count": 3,
   "id": "db55791c",
   "metadata": {},
   "outputs": [
    {
     "data": {
      "image/png": "[encoded data removed]",
      "text/plain": [
       "<Figure size 432x360 with 1 Axes>"
      ]
     },
     "metadata": {
      "needs_background": "light"
     },
     "output_type": "display_data"
    }
   ],
   "source": [
    "# Print on screen\n",
    "dtm=4\n",
    "soqcs.plot(HOMP, 6, 5,'dt',-dtm, dtm, 5 , 'P',0.0 , 0.4, 3, 100, [{0:dtm}])"
   ]
  },
  {
   "cell_type": "markdown",
   "id": "78782dc1",
   "metadata": {},
   "source": [
    "<b> THIS CODE IS PART OF SOQCS </p>\n",
    "<b>Copyright:</b>\n",
    "Copyright © 2023 National University of Ireland Maynooth, Maynooth University. All rights reserved.\n",
    "The contents and use of this document and the related code are subject to the licence terms detailed in <a href=\"./assets/LICENCE.TXT\">LICENCE.txt</a>"
   ]
  }
 ],
 "metadata": {
  "kernelspec": {
   "display_name": "Python 3",
   "language": "python",
   "name": "python3"
  },
  "language_info": {
   "codemirror_mode": {
    "name": "ipython",
    "version": 3
   },
   "file_extension": ".py",
   "mimetype": "text/x-python",
   "name": "python",
   "nbconvert_exporter": "python",
   "pygments_lexer": "ipython3",
   "version": "3.8.8"
  }
 },
 "nbformat": 4,
 "nbformat_minor": 5
}
