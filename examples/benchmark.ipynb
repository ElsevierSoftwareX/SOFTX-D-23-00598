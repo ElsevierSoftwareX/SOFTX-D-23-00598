{
 "cells": [
  {
   "cell_type": "markdown",
   "id": "5677b81c",
   "metadata": {},
   "source": [
    "#  SOQCS Benchmark"
   ]
  },
  {
   "cell_type": "markdown",
   "id": "1060dc45",
   "metadata": {},
   "source": [
    "<p style='text-align: justify;'>In this example various random circuits of N photons and 2N channels are generated. The N photons are assigned one by one to be initialized in the first N channels. The amplitude to find out those photons in the same configuration at the output is calculated. The calculation of this amplitude implies the calculation of a single permanent.  The time required to calculate this permanent with different methods is registered and plotted as function of the number of photons and channels. The permanent is calculated using the \n",
    "the Balasubramanian–Bax–Franklin–Glynn formula \"Glynn\", the Ryser formula \"Ryser\" or the Ryser formula making use of parallelization in the way suggested in ref. [1] \"Ryser 10\". In the last case 10 processor cores are used.</p>\n",
    "<br>\n",
    "<br>\n",
    "[1] P.H. Lundow, K. Markström, <it> Efficient computation of permanents, with applications to Boson sampling and random matrices</it>, <b>Journal of Computational Physics</b>, Volume 455, 2022,110990."
   ]
  },
  {
   "cell_type": "code",
   "execution_count": 1,
   "id": "5ec5a71c",
   "metadata": {},
   "outputs": [],
   "source": [
    "import soqcs  # SOQCS Library\n",
    "import time   # Time measurement library"
   ]
  },
  {
   "cell_type": "markdown",
   "id": "178670fa",
   "metadata": {},
   "source": [
    "Set up simulation constant and create the simulator."
   ]
  },
  {
   "cell_type": "code",
   "execution_count": 2,
   "id": "be160a57",
   "metadata": {},
   "outputs": [],
   "source": [
    "# Configuration constants\n",
    "minnph  = 10       # Minimum number of photons\n",
    "maxnph  = 20       # Maximum number of photons\n",
    "chf     = 2        # Channels by photon\n",
    "\n",
    "# Create the simulator\n",
    "sim = soqcs.simulator(1)"
   ]
  },
  {
   "cell_type": "markdown",
   "id": "05d28f89",
   "metadata": {},
   "source": [
    "<p style='text-align: justify;'> The next piece of code performs the benchmark for the different methods mentioned above. Random circuits are generated to calculate these benchmarks from minph photons to maxnph photon doubling the number of channels with respect the number of photons. </p>"
   ]
  },
  {
   "cell_type": "code",
   "execution_count": 3,
   "id": "a8f521f8",
   "metadata": {},
   "outputs": [
    {
     "name": "stdout",
     "output_type": "stream",
     "text": [
      "  nph   nch    Glynn    Ryser  Ryser10\n",
      "   10    20     0.07     7.74     0.05\n",
      "   11    22     0.24     0.17     0.05\n",
      "   12    24     0.51     0.34     0.07\n",
      "   13    26     1.07     0.68     0.10\n",
      "   14    28     2.26     1.44     0.19\n",
      "   15    30     4.66     2.94     0.38\n",
      "   16    32     9.89     6.79     0.77\n",
      "   17    34    20.44    13.14     1.56\n",
      "   18    36    42.78    30.37     3.35\n",
      "   19    38    88.56    59.14     6.85\n",
      "   20    40   189.49   129.54    15.04\n"
     ]
    }
   ],
   "source": [
    "print(\"  nph   nch    Glynn    Ryser  Ryser10\")\n",
    "for nph in range (minnph,maxnph+1):\n",
    "    nch=chf*nph;\n",
    "\n",
    "    # Build circuit\n",
    "    example = soqcs.qodev(nph,nch)\n",
    "    for j in range (0,nph):\n",
    "        example.add_photons(1,j)\n",
    "        example.random_circuit()\n",
    "    for j in range (0,nch):\n",
    "        example.detector(j)\n",
    "\n",
    "    # Set-up inital state\n",
    "    inputst=example.input()\n",
    "    # List of output amplitudes to be calcualted\n",
    "    olist=example.input()\n",
    "    # Set-up circuit\n",
    "    circuit=example.circuit()\n",
    "\n",
    "    # Simulate Glynn\n",
    "    start = time.time()\n",
    "    output=sim.run_st(inputst,circuit,2,st_list=olist);\n",
    "    end = time.time()\n",
    "    tglynn=(end-start)*1000\n",
    " \n",
    "    # Simulate Ryser 1\n",
    "    start = time.time()\n",
    "    output=sim.run_st(inputst,circuit,4,nthreads=1,st_list=olist);\n",
    "    end = time.time()\n",
    "    tryser=(end-start)*1000 \n",
    "\n",
    "    # Simulate Ryser 10\n",
    "    start = time.time()\n",
    "    output=sim.run_st(inputst,circuit,4,nthreads=10,st_list=olist);\n",
    "    end = time.time()\n",
    "    tryser10=(end-start)*1000             \n",
    "\n",
    "    # Print results\n",
    "    print(\"{:5d}\".format(nph),\"{:5d}\".format(nch),\"{:8.2f}\".format(tglynn),\"{:8.2f}\".format(tryser),\"{:8.2f}\".format(tryser10))"
   ]
  },
  {
   "cell_type": "markdown",
   "id": "1ee62073",
   "metadata": {},
   "source": [
    "**THIS CODE IS PART OF SOQCS** <br>\n",
    "\n",
    "**Copyright:** <br>\n",
    "Copyright © 2023 National University of Ireland Maynooth, Maynooth University. All rights reserved.\n",
    "The contents and use of this document and the related code are subject to the licence terms detailed in <a href=\"./assets/LICENCE.TXT\">LICENCE.txt</a>"
   ]
  }
 ],
 "metadata": {
  "kernelspec": {
   "display_name": "Python 3",
   "language": "python",
   "name": "python3"
  },
  "language_info": {
   "codemirror_mode": {
    "name": "ipython",
    "version": 3
   },
   "file_extension": ".py",
   "mimetype": "text/x-python",
   "name": "python",
   "nbconvert_exporter": "python",
   "pygments_lexer": "ipython3",
   "version": "3.8.8"
  }
 },
 "nbformat": 4,
 "nbformat_minor": 5
}
