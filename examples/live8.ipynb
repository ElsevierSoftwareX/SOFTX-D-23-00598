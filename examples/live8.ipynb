{
 "cells": [
  {
   "cell_type": "markdown",
   "id": "d13f76dd",
   "metadata": {},
   "source": [
    "#  PySOQCS Example 8: Entanglement swapping protocol using a physical quantum dot as a non-ideal Bell emitter."
   ]
  },
  {
   "cell_type": "markdown",
   "id": "02cdaa28",
   "metadata": {},
   "source": [
    "Entanglement swapping protocol as presented in ref. [1] in which a quantum dot is used as a non-ideal Bell emitter. We consider random noise errors due spin scattering, cross dephasing and fine structure splitting FSS in the emission of the photons."
   ]
  },
  {
   "cell_type": "markdown",
   "id": "1fe2cce6",
   "metadata": {},
   "source": [
    "## Description"
   ]
  },
  {
   "cell_type": "markdown",
   "id": "340f9352",
   "metadata": {},
   "source": [
    "<p style='text-align: justify;'> In the entanglement swapping protocol two pairs of photons are emitted in entangled Bell states. One photon of each pair is sent to a beamsplitter and the result at the output of the beamsplitter is measured. If one photon is detected in each output channel of the beamsplitter then the remaining two photons are also entangled. However, if the two pairs are not ideal Bell states misdetections can happen and the resulting density matrix of the two photons not traveling by the beamsplitter will not be the one of a pure state of a perfectly entangled pair of photons. In this simulation we will perform the protocol in the same way than depicted in [1]. This is, the two photons not traveling trough the beamsplitter will arrive at the detector through the same channel but at different times that here are labeled as 0 and 1. The calculation is repeated with different instances of the state of the QD emitter to capture the effect on the output of the distribution of noise in the input. We consider random noise, cross-dephasing noise and FSS effects on the photons that may give different imperfections to the input state in each emission. The result is compared with the analytical result for the current parameters. Note that we are neglecting pure dephasing effects in this example (this is T<sub>2</sub><sup>*</sup> = 0) because they are computer costly but they can be calculated in a longer time with small modifications to this code. We also use an ideal beamsplitter for simplicity.\n",
    "<br>\n",
    "<br>\n",
    "[1] F. Basso Basset et Al. <i>Entanglement swapping with photons generated on demand by a quantum dot.</i> <b>Phys. Rev. Lett., 123:160501</b> (2019)<br>"
   ]
  },
  {
   "cell_type": "markdown",
   "id": "72e6c252",
   "metadata": {},
   "source": [
    "## Code"
   ]
  },
  {
   "cell_type": "markdown",
   "id": "0a6d799a",
   "metadata": {},
   "source": [
    "Import SOQCS library"
   ]
  },
  {
   "cell_type": "code",
   "execution_count": 1,
   "id": "8ad62d08",
   "metadata": {},
   "outputs": [],
   "source": [
    "import pysoqcs as soqcs"
   ]
  },
  {
   "cell_type": "markdown",
   "id": "84353757",
   "metadata": {},
   "source": [
    "Initalize constants and crete objects"
   ]
  },
  {
   "cell_type": "code",
   "execution_count": 2,
   "id": "033b04d8",
   "metadata": {},
   "outputs": [],
   "source": [
    "N      =  10000  \n",
    "prntn  =   1000\n",
    "V=0.0;\n",
    "\n",
    "sim = soqcs.simulator()\n",
    "apd = soqcs.dmatrix()"
   ]
  },
  {
   "cell_type": "markdown",
   "id": "014deceb",
   "metadata": {},
   "source": [
    "Perform main loop of N simulations"
   ]
  },
  {
   "cell_type": "code",
   "execution_count": 3,
   "id": "771b7809",
   "metadata": {},
   "outputs": [
    {
     "name": "stdout",
     "output_type": "stream",
     "text": [
      "Start run of:  10000\n",
      "Running: 0\n",
      "Running: 1000\n",
      "Running: 2000\n",
      "Running: 3000\n",
      "Running: 4000\n",
      "Running: 5000\n",
      "Running: 6000\n",
      "Running: 7000\n",
      "Running: 8000\n",
      "Running: 9000\n"
     ]
    }
   ],
   "source": [
    "print(\"Start run of: \",N)\n",
    "for i in range(0,N,1):\n",
    "    if(i%prntn==0):\n",
    "        print(\"Running:\", i)\n",
    "\n",
    "    example = soqcs.qodev(nph=4, nch=3, nm=2, ns=4, clock=1,ckind='E')\n",
    "    example.add_QD(0, 1,  t1=0.0,  f1=10000.0, w1=1.0, t2=46.71, f2=10000.0, w2=1.0, S=1.0, k=0.8, tss=1.0, thv=1.0)\n",
    "    example.add_QD(0, 2,  t1=16.0, f1=10000.0, w1=1.0, t2= 46.5, f2=10000.0, w2=1.0, S=1.0, k=0.8, tss=1.0, thv=1.0)\n",
    "    example.beamsplitter(1,2,45.0,0.0);\n",
    "    example.detector(0)\n",
    "    example.detector(1,1)\n",
    "    example.detector(2,1)\n",
    "\n",
    "\n",
    "    inputst=example.input()\n",
    "    circuit=example.circuit()\n",
    "    outputst=sim.run_st(inputst,circuit)\n",
    "\n",
    "\n",
    "    apd.add_state(outputst,example)\n",
    "\n",
    "    V=V+example.emitted_vis(1,3)"
   ]
  },
  {
   "cell_type": "markdown",
   "id": "80d85d47",
   "metadata": {},
   "source": [
    "Print visibilitiy (overlapping)"
   ]
  },
  {
   "cell_type": "code",
   "execution_count": 4,
   "id": "0a3777b0",
   "metadata": {},
   "outputs": [
    {
     "name": "stdout",
     "output_type": "stream",
     "text": [
      "V:  0.8105842459701214 \n",
      "\n"
     ]
    }
   ],
   "source": [
    "print(\"V: \",V/N,\"\\n\")"
   ]
  },
  {
   "cell_type": "markdown",
   "id": "1b3a7da4",
   "metadata": {},
   "source": [
    "Print matrix:"
   ]
  },
  {
   "cell_type": "code",
   "execution_count": 5,
   "id": "a35f7cad",
   "metadata": {},
   "outputs": [
    {
     "name": "stdout",
     "output_type": "stream",
     "text": [
      "\u001b[36m | H(0)0\u001b[36m, V(2)0\u001b[36m >\u001b[0m  0.2802\u001b[0m  0.0000\u001b[0m  0.0000\u001b[0m -0.0217\u001b[0m \n",
      "\u001b[36m | V(0)0\u001b[36m, V(2)0\u001b[36m >\u001b[0m  0.0000\u001b[0m  0.2204\u001b[0m  0.0000\u001b[0m  0.0000\u001b[0m \n",
      "\u001b[36m | H(0)0\u001b[36m, H(2)0\u001b[36m >\u001b[0m  0.0000\u001b[0m  0.0000\u001b[0m  0.2232\u001b[0m  0.0000\u001b[0m \n",
      "\u001b[36m | H(2)0\u001b[36m, V(0)0\u001b[36m >\u001b[0m -0.0217\u001b[0m  0.0000\u001b[0m  0.0000\u001b[0m  0.2762\u001b[0m \n",
      "\n"
     ]
    }
   ],
   "source": [
    "apd.normalize();\n",
    "partial=apd.calc_measure(example);\n",
    "partial.prnt_mtx(3,0.01,example);"
   ]
  },
  {
   "cell_type": "markdown",
   "id": "f575c8d5",
   "metadata": {},
   "source": [
    "<b> THIS CODE IS PART OF SOQCS </p>\n",
    "<b>Copyright:</b>\n",
    "Copyright © 2023 National University of Ireland Maynooth, Maynooth University. All rights reserved.\n",
    "The contents and use of this document and the related code are subject to the licence terms detailed in <a href=\"./assets/LICENCE.TXT\">LICENCE.txt</a>"
   ]
  }
 ],
 "metadata": {
  "kernelspec": {
   "display_name": "Python 3",
   "language": "python",
   "name": "python3"
  },
  "language_info": {
   "codemirror_mode": {
    "name": "ipython",
    "version": 3
   },
   "file_extension": ".py",
   "mimetype": "text/x-python",
   "name": "python",
   "nbconvert_exporter": "python",
   "pygments_lexer": "ipython3",
   "version": "3.8.8"
  }
 },
 "nbformat": 4,
 "nbformat_minor": 5
}
