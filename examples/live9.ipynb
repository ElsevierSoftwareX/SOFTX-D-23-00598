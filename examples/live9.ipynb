{
 "cells": [
  {
   "cell_type": "markdown",
   "id": "d06baf83",
   "metadata": {},
   "source": [
    "#  PySOQCS Example 9: Dielectric film with losses."
   ]
  },
  {
   "cell_type": "markdown",
   "id": "a767a70e",
   "metadata": {},
   "source": [
    "Calculation of the output probabilities for a small dielectric film acting as a beamsplitter. The resulting values coincide with the ones reported in ref. [1]"
   ]
  },
  {
   "cell_type": "markdown",
   "id": "aef6a290",
   "metadata": {},
   "source": [
    "## Description:"
   ]
  },
  {
   "cell_type": "markdown",
   "id": "1ca2492b",
   "metadata": {},
   "source": [
    "<p style='text-align: justify;'> We consider a circuit made of single dielectric thin film as studied in [1]. We repoduce numerically the results presented in Figs 2 and 3 of the same ref. [1] obtained by means of analytical calculations to validate the loss model in SOQCS. Each of the figures corresponf to the cases where two photons are injected in the dielectric from the same direction or from opposite ones. Here, both situations are considered as two different input channels  therefore we plot the different outcome probabilities as function of the transmission amplitude |t| for each of the  two cases | 2, 0 > and | 1, 1 >.</p>\n",
    "<br>\n",
    "<br>\n",
    "[1] Stephen M. Barnett, et Al.  <i>Quantum optics of lossy beam splitters.</i> <b> Physical Review A Volume 57 Number 3</b> (1998)"
   ]
  },
  {
   "cell_type": "markdown",
   "id": "5e98ec10",
   "metadata": {},
   "source": [
    "## Code:"
   ]
  },
  {
   "cell_type": "markdown",
   "id": "e389e592",
   "metadata": {},
   "source": [
    "Import SOQCS and some extra libraries needed to print the results."
   ]
  },
  {
   "cell_type": "code",
   "execution_count": 1,
   "id": "5f976a0f",
   "metadata": {},
   "outputs": [],
   "source": [
    "import pysoqcs as soqcs\n",
    "import numpy as np\n",
    "import matplotlib.pyplot as plt\n",
    "from matplotlib.ticker import AutoMinorLocator"
   ]
  },
  {
   "cell_type": "markdown",
   "id": "5c0ffbac",
   "metadata": {},
   "source": [
    "## | 2, 0 > input."
   ]
  },
  {
   "cell_type": "markdown",
   "id": "100033b7",
   "metadata": {},
   "source": [
    "### SOQCS Circuit."
   ]
  },
  {
   "cell_type": "markdown",
   "id": "8a09c256",
   "metadata": {},
   "source": [
    "<p style='text-align: justify;'> Function that contains the SOQCS calculation of the output of the dielectric given a transmission amplitude t for the case when the input is | 2, 0 > <br>.\n",
    "<br>\n",
    "<b>Note: </b> This is not the most\n",
    "efficient implementation.  All the objects have to be recreated for each point calculation. This code is implemented for demonstration purposes therefore it is intended to be simple. </p>"
   ]
  },
  {
   "cell_type": "code",
   "execution_count": 2,
   "id": "9d83d972",
   "metadata": {},
   "outputs": [],
   "source": [
    "def DieProb(x,args):\n",
    "    #Obtain t\n",
    "    t=np.sqrt(x/2.0)\n",
    "    #Build the circuit\n",
    "    example = soqcs.qodev(nph=2, nch=2, nm=1, ns=2, clock=0, R=0, loss=True)\n",
    "    example.add_photons(2,0,0, 0.0, 1.0,1.0)\n",
    "    example.dielectric(0,1,t,1j* t)\n",
    "    example.detector(0);\n",
    "    example.detector(1);\n",
    "\n",
    "    # Create a simulator and run the simulation\n",
    "    sim=soqcs.simulator()\n",
    "    measured=sim.run(example)\n",
    "       \n",
    "    term=[[0      ,      1],\n",
    "          [args[0],args[1]]]\n",
    "    prob=measured.prob(term,example)    \n",
    "    return prob"
   ]
  },
  {
   "cell_type": "markdown",
   "id": "ff6a14ee",
   "metadata": {},
   "source": [
    "### Results."
   ]
  },
  {
   "cell_type": "markdown",
   "id": "5ac4d1a6",
   "metadata": {},
   "source": [
    "* | 2, 0 >: Black\n",
    "* | 1, 1 >: Red\n",
    "* | 1, 0 >: Green\n",
    "* | 0, 2 >: Yellow\n",
    "* | 0, 1 >: Blue\n",
    "* | 0, 0 >: Purple\n",
    "\n",
    "Some colors may not be vissible if two plots are equal ( for example | 2, 0 > and | 0, 2 > )."
   ]
  },
  {
   "cell_type": "code",
   "execution_count": 3,
   "id": "db55791c",
   "metadata": {},
   "outputs": [
    {
     "data": {
      "image/png": "[encoded data removed]",
      "text/plain": [
       "<Figure size 432x360 with 1 Axes>"
      ]
     },
     "metadata": {
      "needs_background": "light"
     },
     "output_type": "display_data"
    }
   ],
   "source": [
    "      #Arg1  #Arg2\n",
    "args=[{0:2,  1:0},  #Plot 1\n",
    "      {0:1,  1:1},  #Plot 2\n",
    "      {0:1,  1:0},  #Plot 3 \n",
    "      {0:0,  1:2},  #Plot 4 \n",
    "      {0:0,  1:1},  #Plot 5 \n",
    "      {0:0,  1:0}]  #Plot 6\n",
    "\n",
    "soqcs.plot(DieProb,6,5,'$2|t|^2$', 0.0, 0.9999, 3 ,'P', 0.0 , 1.0, 3, 100, args,['k','r','g','y','b','m'])"
   ]
  },
  {
   "cell_type": "markdown",
   "id": "9a428352",
   "metadata": {},
   "source": [
    "## | 1, 1 > input."
   ]
  },
  {
   "cell_type": "markdown",
   "id": "1cca5f3a",
   "metadata": {},
   "source": [
    "### SOQCS Circuit."
   ]
  },
  {
   "cell_type": "markdown",
   "id": "413c9c26",
   "metadata": {},
   "source": [
    "<p style='text-align: justify;'> Function that contains the SOQCS calculation of the output of the dielectric given a transmission amplitude t for the case when the input is | 2, 0 > <br>.\n",
    "<br>\n",
    "<b>Note: </b> This is not the most\n",
    "efficient implementation.  All the objects have to be recreated for each point calculation. This code is implemented for demonstration purposes therefore it is intended to be simple. </p>"
   ]
  },
  {
   "cell_type": "code",
   "execution_count": 4,
   "id": "9dfe9b61",
   "metadata": {},
   "outputs": [],
   "source": [
    "def DieProb(x,occ1,occ2):  \n",
    "    # Obtain t\n",
    "    t=np.sqrt(x/2.0)\n",
    "    \n",
    "    #Build the circuit\n",
    "    example = soqcs.qodev(nph=2, nch=2, nm=1, ns=2, clock=0, R=0, loss=True)\n",
    "    example.add_photons(1,0,0, 0.0, 1.0,1.0)\n",
    "    example.add_photons(1,1,0, 0.0, 1.0,1.0)\n",
    "    example.dielectric(0,1,t,t)\n",
    "    example.detector(0,);\n",
    "    example.detector(1);\n",
    "\n",
    "    # Create a simulator and run the simulation\n",
    "    sim=soqcs.simulator()\n",
    "    measured=sim.run(example)\n",
    "    \n",
    "    term=[[0,1],\n",
    "          [occ1,occ2]]\n",
    "    prob=measured.prob(term,example)    \n",
    "    return prob"
   ]
  },
  {
   "cell_type": "markdown",
   "id": "85a5f017",
   "metadata": {},
   "source": [
    "### Sum function"
   ]
  },
  {
   "cell_type": "markdown",
   "id": "0840136e",
   "metadata": {},
   "source": [
    "In this case the interest is to give the total probability of detecting at the output 0, 1 or 2 photons independently of the channel where those are detected. Therefore whe need to sum the probabilities of the different outcomes that contain 0, 1 or 2 photons in each case."
   ]
  },
  {
   "cell_type": "code",
   "execution_count": 5,
   "id": "f52ed475",
   "metadata": {},
   "outputs": [],
   "source": [
    "def DieSumProb(x,args):  \n",
    "    if(args[0]==2):\n",
    "        probs1=DieProb(x,2,0)\n",
    "        probs2=DieProb(x,1,1)\n",
    "        probs3=DieProb(x,0,2)\n",
    "        probs=probs1+probs2+probs3\n",
    "        \n",
    "    if(args[0]==1):\n",
    "        probs1=DieProb(x,1,0)\n",
    "        probs2=DieProb(x,0,1)\n",
    "        probs=probs1+probs2\n",
    "        \n",
    "    if(args[0]==0):\n",
    "        probs=DieProb(x,0,0)\n",
    "\n",
    "    return probs"
   ]
  },
  {
   "cell_type": "markdown",
   "id": "f56dd96b",
   "metadata": {},
   "source": [
    "### Results."
   ]
  },
  {
   "cell_type": "markdown",
   "id": "c09d1b77",
   "metadata": {},
   "source": [
    "* | 2 >: Black\n",
    "* | 1 >: Red\n",
    "* | 0 >: Green"
   ]
  },
  {
   "cell_type": "code",
   "execution_count": 6,
   "id": "c9cf9c32",
   "metadata": {},
   "outputs": [
    {
     "data": {
      "image/png": "[encoded data removed]",
      "text/plain": [
       "<Figure size 432x360 with 1 Axes>"
      ]
     },
     "metadata": {
      "needs_background": "light"
     },
     "output_type": "display_data"
    }
   ],
   "source": [
    "soqcs.plot(DieSumProb,6,5,'$2|t|^2$', 0.0, 0.5, 3 ,'P', 0.0 , 1.0, 3, 100, [{0:2},{0:1},{0:0}],['k','r','g'])"
   ]
  },
  {
   "cell_type": "markdown",
   "id": "78782dc1",
   "metadata": {},
   "source": [
    "<b> THIS CODE IS PART OF SOQCS </p>\n",
    "<b>Copyright:</b>\n",
    "Copyright © 2023 National University of Ireland Maynooth, Maynooth University. All rights reserved.\n",
    "The contents and use of this document and the related code are subject to the licence terms detailed in <a href=\"./assets/LICENCE.TXT\">LICENCE.txt</a>"
   ]
  }
 ],
 "metadata": {
  "kernelspec": {
   "display_name": "Python 3",
   "language": "python",
   "name": "python3"
  },
  "language_info": {
   "codemirror_mode": {
    "name": "ipython",
    "version": 3
   },
   "file_extension": ".py",
   "mimetype": "text/x-python",
   "name": "python",
   "nbconvert_exporter": "python",
   "pygments_lexer": "ipython3",
   "version": "3.8.8"
  }
 },
 "nbformat": 4,
 "nbformat_minor": 5
}
