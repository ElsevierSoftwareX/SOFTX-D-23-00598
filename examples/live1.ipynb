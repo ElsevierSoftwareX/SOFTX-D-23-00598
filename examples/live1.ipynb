{
 "cells": [
  {
   "cell_type": "markdown",
   "id": "cb0afe48",
   "metadata": {},
   "source": [
    "# PySOQCS Example 1: Elementary example program."
   ]
  },
  {
   "cell_type": "markdown",
   "id": "41c2a85b",
   "metadata": {},
   "source": [
    "Elementary example of SOQCS for a simple circuit with only one beamsplitter.\n",
    "\n",
    "Structure:\n",
    "\n",
    "    - Create a circuit.\n",
    "    - Build the circuit.\n",
    "    - Create a simulator to run it.\n",
    "    - Run the simulation.\n",
    "    - Print the output probabilities."
   ]
  },
  {
   "cell_type": "markdown",
   "id": "8af4c6cd",
   "metadata": {},
   "source": [
    "# Import  and configure library"
   ]
  },
  {
   "cell_type": "code",
   "execution_count": 1,
   "id": "ab3f9651",
   "metadata": {},
   "outputs": [],
   "source": [
    "import pysoqcs as soqcs"
   ]
  },
  {
   "cell_type": "markdown",
   "id": "ed267511",
   "metadata": {},
   "source": [
    "# Managing photons"
   ]
  },
  {
   "cell_type": "markdown",
   "id": "d55ac584",
   "metadata": {},
   "source": [
    "Create and build a circuit, including the photons to be sent to that circuit."
   ]
  },
  {
   "cell_type": "code",
   "execution_count": 2,
   "id": "3f55f792",
   "metadata": {},
   "outputs": [],
   "source": [
    "# Create circuit\n",
    "example = soqcs.qodev(2,2);\n",
    "\n",
    "# Build circuit\n",
    "example.add_photons(2,1)\n",
    "example.separator()\n",
    "example.beamsplitter(0,1,45.0,0.0)\n",
    "example.separator()\n",
    "example.detector(0)\n",
    "example.detector(1)"
   ]
  },
  {
   "cell_type": "markdown",
   "id": "fb006fa5",
   "metadata": {},
   "source": [
    "Plot circuit"
   ]
  },
  {
   "cell_type": "code",
   "execution_count": 3,
   "id": "7b89af15",
   "metadata": {},
   "outputs": [
    {
     "data": {
      "image/png": "[encoded data removed]",
      "text/plain": [
       "<Figure size 770x224 with 1 Axes>"
      ]
     },
     "metadata": {
      "needs_background": "light"
     },
     "output_type": "display_data"
    }
   ],
   "source": [
    "example.show(depth=6,sizexy=70)"
   ]
  },
  {
   "cell_type": "markdown",
   "id": "742c5479",
   "metadata": {},
   "source": [
    "Create a simulator and run the simulation."
   ]
  },
  {
   "cell_type": "code",
   "execution_count": 4,
   "id": "ee909900",
   "metadata": {},
   "outputs": [],
   "source": [
    "simulator=soqcs.simulator()\n",
    "outcome=simulator.run(example)"
   ]
  },
  {
   "cell_type": "markdown",
   "id": "2fdab30a",
   "metadata": {},
   "source": [
    "Print outcome. \n",
    "\n",
    "<b>Known issue</b>: Sometimes it does not print one of the lines that later on it is appended at the next output."
   ]
  },
  {
   "cell_type": "code",
   "execution_count": 5,
   "id": "8d0766b5",
   "metadata": {},
   "outputs": [
    {
     "name": "stdout",
     "output_type": "stream",
     "text": [
      " 0 : \u001b[36m | 2, 0 >\u001b[0m: 0.25\n",
      " 1 : \u001b[36m | 1, 1 >\u001b[0m: 0.5\n",
      " 2 : \u001b[36m | 0, 2 >\u001b[0m: 0.25\n"
     ]
    }
   ],
   "source": [
    "outcome.prnt_bins()"
   ]
  },
  {
   "cell_type": "markdown",
   "id": "c918831a",
   "metadata": {},
   "source": [
    "Plot outcome"
   ]
  },
  {
   "cell_type": "code",
   "execution_count": 6,
   "id": "81665e8c",
   "metadata": {},
   "outputs": [
    {
     "data": {
      "image/png": "[encoded data removed]",
      "text/plain": [
       "<Figure size 432x288 with 1 Axes>"
      ]
     },
     "metadata": {
      "needs_background": "light"
     },
     "output_type": "display_data"
    }
   ],
   "source": [
    "outcome.show()"
   ]
  },
  {
   "cell_type": "markdown",
   "id": "6487fca3",
   "metadata": {},
   "source": [
    "# Managing states"
   ]
  },
  {
   "cell_type": "markdown",
   "id": "590b51e2",
   "metadata": {},
   "source": [
    "Create a circuit."
   ]
  },
  {
   "cell_type": "code",
   "execution_count": 7,
   "id": "b907ab90",
   "metadata": {},
   "outputs": [],
   "source": [
    "# Create a circuit\n",
    "example = soqcs.qocircuit(2);\n",
    "# Build circuit\n",
    "example.beamsplitter(0,1,45.0,0.0)\n",
    "example.detector(0)\n",
    "example.detector(1)"
   ]
  },
  {
   "cell_type": "markdown",
   "id": "95f7430e",
   "metadata": {},
   "source": [
    "Create and initialize the input state"
   ]
  },
  {
   "cell_type": "code",
   "execution_count": 8,
   "id": "c9c79aa9",
   "metadata": {},
   "outputs": [],
   "source": [
    "# Create input state\n",
    "inputst = soqcs.state(example.num_levels(),10)\n",
    "\n",
    "# Initialize input state\n",
    "term=[[0,1], # Channels\n",
    "      [0,2]] # Occupations\n",
    "inputst.add_term(1.0,term,example)"
   ]
  },
  {
   "cell_type": "markdown",
   "id": "f8c03eea",
   "metadata": {},
   "source": [
    "Calculate the output state from the input."
   ]
  },
  {
   "cell_type": "code",
   "execution_count": 9,
   "id": "459157ca",
   "metadata": {},
   "outputs": [],
   "source": [
    "simulator=soqcs.simulator()\n",
    "outputst=simulator.run_st(inputst,example)"
   ]
  },
  {
   "cell_type": "markdown",
   "id": "c496c23a",
   "metadata": {},
   "source": [
    "Print output state."
   ]
  },
  {
   "cell_type": "code",
   "execution_count": 10,
   "id": "5f37605a",
   "metadata": {
    "scrolled": true
   },
   "outputs": [
    {
     "name": "stdout",
     "output_type": "stream",
     "text": [
      "(0.5,0) * \u001b[36m | 2, 0 >\u001b[0m + (-0.707107,0) * \u001b[36m | 1, 1 >\u001b[0m + (0.5,0) * \u001b[36m | 0, 2 >\u001b[0m\n"
     ]
    }
   ],
   "source": [
    "outputst.prnt_state()"
   ]
  },
  {
   "cell_type": "markdown",
   "id": "22c7fd75",
   "metadata": {},
   "source": [
    "<b> THIS CODE IS PART OF SOQCS </p>\n",
    "<b>Copyright:</b>\n",
    "Copyright © 2022 National University of Ireland Maynooth, Maynooth University. All rights reserved.\n",
    "The contents and use of this document and the related code are subject to the licence terms detailed in <a href=\"./assets/LICENCE.TXT\">LICENCE.txt</a>\n"
   ]
  }
 ],
 "metadata": {
  "kernelspec": {
   "display_name": "Python 3",
   "language": "python",
   "name": "python3"
  },
  "language_info": {
   "codemirror_mode": {
    "name": "ipython",
    "version": 3
   },
   "file_extension": ".py",
   "mimetype": "text/x-python",
   "name": "python",
   "nbconvert_exporter": "python",
   "pygments_lexer": "ipython3",
   "version": "3.8.8"
  }
 },
 "nbformat": 4,
 "nbformat_minor": 5
}
