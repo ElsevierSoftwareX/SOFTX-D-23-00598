{
 "cells": [
  {
   "cell_type": "markdown",
   "id": "425543e3",
   "metadata": {},
   "source": [
    "#  PySOQCS Example 3: Simulation of a delay in the middle of a circuit."
   ]
  },
  {
   "cell_type": "markdown",
   "id": "4cc34cf3",
   "metadata": {},
   "source": [
    "Demonstration of the use of a delay as a circuit element."
   ]
  },
  {
   "cell_type": "markdown",
   "id": "12d6cdba",
   "metadata": {},
   "source": [
    "## Description"
   ]
  },
  {
   "cell_type": "markdown",
   "id": "10e82c3b",
   "metadata": {},
   "source": [
    "<p style='text-align: justify;'> We consider a circuit made of two ideal balanced beamsplitters with two photons of exponential shape in each of the input channels as a theoretical representation of the two photons interference experiment reported in ref.[1]. We consider a delay dt in one of the channels between the two beamsplitters and we print the probability of these two photons to be measured at different times in the circuit output.  In this case we configure an ideal detector and circuit therefore the result only depends on the photon distinguishability. </p>\n",
    "<br>\n",
    "<br>\n",
    "[1] Santori, C., Fattal, D., Vučković, J. et al. <i>Indistinguishable photons from a single-photon device.</i> <b> Nature 419, 594:597</b> (2002)"
   ]
  },
  {
   "cell_type": "markdown",
   "id": "ec98d9e6",
   "metadata": {},
   "source": [
    "<div>\n",
    "<img src=\"./assets/live3_device.png\" width=\"500\"/>\n",
    "</div>\n",
    "<p style='text-align: center;'> <b>Experiment device as described in fig. 3a of ref. [1] </b></p>"
   ]
  },
  {
   "cell_type": "markdown",
   "id": "ddce14a8",
   "metadata": {},
   "source": [
    "<div>\n",
    "<img src=\"./assets/live3_circuit.png\" width=\"700\"/>\n",
    "</div>\n",
    "<p style='text-align: center;'> <b>Simulated circuit </b></p>"
   ]
  },
  {
   "cell_type": "markdown",
   "id": "aa379050",
   "metadata": {},
   "source": [
    "## Code"
   ]
  },
  {
   "cell_type": "markdown",
   "id": "6fa2c873",
   "metadata": {},
   "source": [
    "Import SOQCS and some extra libraries needed to print the results"
   ]
  },
  {
   "cell_type": "code",
   "execution_count": 1,
   "id": "3fe7fec1",
   "metadata": {},
   "outputs": [],
   "source": [
    "import pysoqcs as soqcs\n",
    "import numpy as np\n",
    "import matplotlib.pyplot as plt\n",
    "from matplotlib.ticker import AutoMinorLocator"
   ]
  },
  {
   "cell_type": "markdown",
   "id": "4f77e7e3",
   "metadata": {},
   "source": [
    "## SOQCS Circuit"
   ]
  },
  {
   "cell_type": "markdown",
   "id": "b9d29473",
   "metadata": {},
   "source": [
    "<p style='text-align: justify;'> Function that contains the SOQCS calculation of the probability of two indistinguishable photons to arrive at different times to two detectors when a delay is introduced between two beamsplitters.<br>\n",
    "<br>\n",
    "<b>Note: </b> This is not the most\n",
    "efficient implemetantion.  All the objects have to be recreated for each point calculation. This code is implemented for demostration purposes therefore it is intended to be simple. </p>"
   ]
  },
  {
   "cell_type": "code",
   "execution_count": 2,
   "id": "42cf3111",
   "metadata": {},
   "outputs": [],
   "source": [
    "def Prob(dt):\n",
    "    # Configure SOQCS\n",
    "    soqcs.cfg_soqcs(2)\n",
    "    \n",
    "    # Create circuit\n",
    "    example = soqcs.qocircuit(2,1,2,1,10000,False);\n",
    "    # Create photons\n",
    "    photons = soqcs.ph_bunch(example.num_levels(),1) \n",
    "    photons.add_photons(1,0, 0, 0.0, 1.0, 1.0,example);\n",
    "    photons.add_photons(1,1, 0, 0.0, 1.0, 1.0,example);\n",
    "    \n",
    "    #Send the photons to the circuit\n",
    "    photons.send2circuit('E',0,example);\n",
    "    #Build the circuits\n",
    "    example.beamsplitter(0,1,45.0,0.0);\n",
    "    example.delay(1,dt);\n",
    "    example.beamsplitter(0,1,45.0,0.0);\n",
    "    example.detector(0);\n",
    "    example.detector(1);\n",
    "\n",
    "      # Create a simulator and run the simulation\n",
    "    sim=soqcs.simulator(0,1000)\n",
    "    measured=sim.run(photons,example)\n",
    "    \n",
    "    # Return the correlation probability\n",
    "    term=[[0,1],\n",
    "          [0,0],\n",
    "          [0,1],\n",
    "          [1,1]]\n",
    "    prob=measured.prob_def(term,example)    \n",
    "    return prob"
   ]
  },
  {
   "cell_type": "markdown",
   "id": "ab5c55ad",
   "metadata": {},
   "source": [
    "## Main program: Plotter"
   ]
  },
  {
   "cell_type": "markdown",
   "id": "a8b9b861",
   "metadata": {},
   "source": [
    "This is the main program where we plot the probability as function of delay time dt. We create an array with all the delay times dt and all the probabilities corresponding with those delays. Then the result is plotted.\n"
   ]
  },
  {
   "cell_type": "code",
   "execution_count": 3,
   "id": "c5c4f90d",
   "metadata": {},
   "outputs": [
    {
     "data": {
      "text/plain": [
       "[<matplotlib.lines.Line2D at 0x7f9f9b606df0>]"
      ]
     },
     "execution_count": 3,
     "metadata": {},
     "output_type": "execute_result"
    },
    {
     "data": {
      "image/png": "[encoded data removed]",
      "text/plain": [
       "<Figure size 576x432 with 1 Axes>"
      ]
     },
     "metadata": {
      "needs_background": "light"
     },
     "output_type": "display_data"
    }
   ],
   "source": [
    "# Sweep program parameters\n",
    "dtm=4    \n",
    "dt = np.linspace(-dtm, dtm+0.001, 101)\n",
    "vProb=np.vectorize(Prob)\n",
    "probs=vProb(dt)\n",
    "\n",
    "# Print on screen\n",
    "plt.rcParams[\"figure.figsize\"] = (8,6)\n",
    "plt.xlim(-dtm,dtm)\n",
    "plt.ylim(0,0.08)\n",
    "plt.xticks((-4,-2,0,2,4), ('-4.0','-2.0','0.0','2.0','4.0'), size = 18)\n",
    "plt.yticks((0,0.04,0.08), ('0.00', '0.04','0.08'), size = 18)\n",
    "plt.xlabel('$dt$', fontsize=18, labelpad=0)\n",
    "plt.ylabel('$P$',  fontsize=18, labelpad=0)\n",
    "plt.plot(dt, probs,color=\"b\", linewidth=3.0)"
   ]
  },
  {
   "cell_type": "markdown",
   "id": "1563cd68",
   "metadata": {},
   "source": [
    "<b> THIS CODE IS PART OF SOQCS </p>\n",
    "<b>Copyright:</b>\n",
    "Copyright © 2022 National University of Ireland Maynooth, Maynooth University. All rights reserved.\n",
    "The contents and use of this document and the related code are subject to the licence terms detailed in <a href=\"./assets/LICENCE.TXT\">LICENCE.txt</a>"
   ]
  }
 ],
 "metadata": {
  "kernelspec": {
   "display_name": "Python 3",
   "language": "python",
   "name": "python3"
  },
  "language_info": {
   "codemirror_mode": {
    "name": "ipython",
    "version": 3
   },
   "file_extension": ".py",
   "mimetype": "text/x-python",
   "name": "python",
   "nbconvert_exporter": "python",
   "pygments_lexer": "ipython3",
   "version": "3.8.8"
  }
 },
 "nbformat": 4,
 "nbformat_minor": 5
}
