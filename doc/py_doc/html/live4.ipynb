{
 "cells": [
  {
   "cell_type": "markdown",
   "id": "d06baf83",
   "metadata": {},
   "source": [
    "#  SOQCS Example 4: HOM Visibility simulation of a 2x2 MMI beamsplitter."
   ]
  },
  {
   "cell_type": "markdown",
   "id": "1ca2492b",
   "metadata": {},
   "source": [
    "<p style='text-align: justify;'> We simulate a circuit made of a 2x2 MMI beamsplitter with two photons of Gaussian shape in each of the input channels. We consider the time, frequency and width given in random dimensionless units. At  the output we print the probability of having two photons in two different channels depending on the delay time between them. For delay dt=0 both photons are indistinguishable and the probability at the output is zero in ideal conditions. We consider time dependent losses in one of the channels and physical detectors that consider effects of efficiency, detector dead time, and dark counts. Furthermore we also include the effect of the presence of a white Gaussian noise over the output. </p>"
   ]
  },
  {
   "cell_type": "code",
   "execution_count": 1,
   "id": "5f976a0f",
   "metadata": {},
   "outputs": [],
   "source": [
    "import soqcs"
   ]
  },
  {
   "cell_type": "markdown",
   "id": "5e98ec10",
   "metadata": {},
   "source": [
    "## Building a plotting function with a SOQCS circuit"
   ]
  },
  {
   "cell_type": "markdown",
   "id": "8a09c256",
   "metadata": {},
   "source": [
    "<p style='text-align: justify;'> Next, we build a function that contains the calculation of the probability of two photons to be found in different channels at the output of a MMI beamsplitter. The photons are initialized to be one at each channel at the MMI input with a relative delay dt between them. </p> \n",
    "<p style='text-align: justify;'>\n",
    "<b>Note 1: </b> This is not the most efficient implementation.  All the objects have to be recreated for each point calculation. This code is implemented for demonstration purposes therefore it is intended to be simple. </p>\n",
    "<p style='text-align: justify;'>\n",
    "<b>Note 1: </b> The number of packets is the number of different single photon wavefunctions found in the simulation. In this case photons arrive at two different times therefore there are two possible packets. </p>"
   ]
  },
  {
   "cell_type": "code",
   "execution_count": 2,
   "id": "9d83d972",
   "metadata": {},
   "outputs": [],
   "source": [
    "def HOMP(dt,args):\n",
    "    #Build the circuit\n",
    "    example = soqcs.qodev(nph=2,       # Number of photons\n",
    "                          nch=2,       # Number of channels\n",
    "                          nm =1,       # Number of polarizations\n",
    "                          ns =2,       # Number of packets\n",
    "                          clock=0,     # Detectors are configured as counters\n",
    "                          R=10000,     # Number of iterations to calculate detector effects.\n",
    "                          loss=True);  # Calculation of losses = True\n",
    "    # Add photons with gaussian wavefunction \n",
    "    # at time t, frequency f and gaussian width w\n",
    "    example.add_photons(1, 0, t =0.0, f=1.0, w=1.0)\n",
    "    example.add_photons(1, 1, t = dt, f=1.0, w=1.0)    \n",
    "    # Add a loss dependent of time for educative purposes\n",
    "    example.loss(1, 0.3*(args[0]+dt)/(2*args[0])) \n",
    "    # MMI2 Beamsplitter\n",
    "    example.MMI2(0,1)\n",
    "    # Add detectors of efficiency eff, off with probability blnk \n",
    "    # (because of dead time for example) and thermal poison distribution \n",
    "    # of coefficient gamma\n",
    "    example.detector(0,eff=0.85, blnk=0.1, gamma=0.4)\n",
    "    example.detector(1,eff=0.85, blnk=0.1, gamma=0.4)\n",
    "    # Add random noise\n",
    "    example.noise(0.0001)\n",
    "    \n",
    "    # Create a simulator and run the simulation\n",
    "    sim=soqcs.simulator()\n",
    "    measured=sim.run(example)\n",
    "    \n",
    "    # Calculate the probability\n",
    "    term=[[0,1], # Channels\n",
    "          [1,1]] # Occupation\n",
    "    prob=measured.prob(term,example)    \n",
    "    \n",
    "    # Return the probability\n",
    "    return prob"
   ]
  },
  {
   "cell_type": "markdown",
   "id": "ff6a14ee",
   "metadata": {},
   "source": [
    "## Plotting the function"
   ]
  },
  {
   "cell_type": "markdown",
   "id": "5ac4d1a6",
   "metadata": {},
   "source": [
    "This is the main program where the HOM effect probability is plotted."
   ]
  },
  {
   "cell_type": "code",
   "execution_count": 3,
   "id": "db55791c",
   "metadata": {},
   "outputs": [
    {
     "data": {
      "image/png": "[encoded data removed]",
      "text/plain": [
       "<Figure size 432x360 with 1 Axes>"
      ]
     },
     "metadata": {
      "needs_background": "light"
     },
     "output_type": "display_data"
    }
   ],
   "source": [
    "dtm=4 # Max/Min limit of dt in the plot\n",
    "soqcs.plot(HOMP, 6, 5,'dt',-dtm, dtm, 5 , 'P',0.0 , 0.4, 3, 100, [{0:dtm}])"
   ]
  },
  {
   "cell_type": "markdown",
   "id": "78782dc1",
   "metadata": {},
   "source": [
    "**THIS CODE IS PART OF SOQCS** <br>\n",
    "\n",
    "**Copyright:** <br>\n",
    "Copyright © 2023 National University of Ireland Maynooth, Maynooth University. All rights reserved.\n",
    "The contents and use of this document and the related code are subject to the licence terms detailed in <a href=\"./assets/LICENCE.TXT\">LICENCE.txt</a>"
   ]
  }
 ],
 "metadata": {
  "kernelspec": {
   "display_name": "Python 3",
   "language": "python",
   "name": "python3"
  },
  "language_info": {
   "codemirror_mode": {
    "name": "ipython",
    "version": 3
   },
   "file_extension": ".py",
   "mimetype": "text/x-python",
   "name": "python",
   "nbconvert_exporter": "python",
   "pygments_lexer": "ipython3",
   "version": "3.8.8"
  }
 },
 "nbformat": 4,
 "nbformat_minor": 5
}
