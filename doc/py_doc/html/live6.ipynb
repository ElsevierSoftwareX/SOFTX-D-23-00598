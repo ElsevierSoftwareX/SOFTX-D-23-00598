{
 "cells": [
  {
   "cell_type": "markdown",
   "id": "425543e3",
   "metadata": {},
   "source": [
    "#  SOQCS Example 6: Simulation of a delay in the middle of a circuit."
   ]
  },
  {
   "cell_type": "markdown",
   "id": "10e82c3b",
   "metadata": {},
   "source": [
    "<p style='text-align: justify;'> We consider a circuit made of two ideal balanced beamsplitters with two photons of exponential shape in each of the input channels as a theoretical representation of the two photons interference experiment reported in ref.[1]. We consider a delay dt in one of the channels between the two beamsplitters and we print the probability of these two photons to be measured at different times in the circuit output.  In this case we configure an ideal detector and circuit therefore the result only depends on the photon distinguishability. </p>\n",
    "<br>\n",
    "<br>\n",
    "[1] Santori, C., Fattal, D., Vučković, J. et al. <i>Indistinguishable photons from a single-photon device.</i> <b> Nature 419, 594:597</b> (2002)"
   ]
  },
  {
   "cell_type": "markdown",
   "id": "200a1b67",
   "metadata": {},
   "source": [
    "<div>\n",
    "<img src=\"./image/live6_device.png\" width=\"500\"/>\n",
    "</div>\n",
    "<p style='text-align: center;'> <b>Experiment device as described in fig. 3a of ref. [1] </b></p>"
   ]
  },
  {
   "cell_type": "markdown",
   "id": "ddce14a8",
   "metadata": {},
   "source": [
    "<div>\n",
    "<img src=\"./image/live6_circuit.png\" width=\"700\"/>\n",
    "</div>\n",
    "<p style='text-align: center;'> <b>Simulated circuit </b></p>"
   ]
  },
  {
   "cell_type": "code",
   "execution_count": 1,
   "id": "3fe7fec1",
   "metadata": {},
   "outputs": [],
   "source": [
    "import soqcs        # Import SOQCS\n",
    "import numpy as np  # Import numpy\n",
    "import math         # Impart math"
   ]
  },
  {
   "cell_type": "markdown",
   "id": "7cc7efe4",
   "metadata": {},
   "source": [
    "Set up simulation constants"
   ]
  },
  {
   "cell_type": "code",
   "execution_count": 2,
   "id": "661838bb",
   "metadata": {},
   "outputs": [],
   "source": [
    "# Simulation constants  #\n",
    "N   =  50   # Number of points\n",
    "dtm = 9.0   # Period to be sweeped."
   ]
  },
  {
   "cell_type": "markdown",
   "id": "b9d29473",
   "metadata": {},
   "source": [
    "<p style='text-align: justify;'> Next can be bound a piece of code to calculate the probability of two indistinguishable photons to arrive at different times to two detectors when a delay is introduced between two beamsplitters. To do that we add two \"phantom\" photons to the circuit. This is, we initialize the channels zero and one to zero photons at the particular times of interest. Even if no photons are added the packets described by that definition are created in the simulation. This packets are used to calculate p(dt=t2-t1)</p>\n",
    "\n",
    "<p style='text-align: justify;'> To use a delay we divide the simulation in four periods of time of 3 time units width. The first one goes from -1.5 to 1.5 time units. A delay will add a fix amount of nx3 time units of delay where\n",
    "n is as parameters. Multiple delays can be defined in a circuit but their delay times have to be equal or multiples of the smaller. </p>\n",
    "\n",
    "<p style='text-align: justify;'>  <b>Note: </b> This is not the most\n",
    "efficient implementation.  All the objects have to be recreated for each point calculation. This code is implemented for demonstration purposes therefore it is intended to be simple. </p>"
   ]
  },
  {
   "cell_type": "code",
   "execution_count": 3,
   "id": "42cf3111",
   "metadata": {},
   "outputs": [],
   "source": [
    "# Imnintalize variables\n",
    "delta=dtm/(N-1)\n",
    "sim=soqcs.simulator(1000)\n",
    "prob=np.zeros(N) \n",
    "t1=0.0002\n",
    "# Main loop\n",
    "for i in range(0,N):\n",
    "    t2=0;\n",
    "    for j in range(0,N):\n",
    "        example = soqcs.qodev(nph=2,      # Number of photons  \n",
    "                              nch=2,      # Number of channels\n",
    "                              nm=1,       # Number of polarizations\n",
    "                              ns=4,       # Number of packets\n",
    "                              np=4,       # Number of periods\n",
    "                              dtp=3.0,    # Period width\n",
    "                              clock=3,    # Detectors have a clock. (Manual mode. We don't want SOQCS to rearrange the packets)\n",
    "                                          # Advanced feature. (The user must define the needed packets manually)\n",
    "                              R=0,        # Number of iterations to calculate detector effects.\n",
    "                              loss=False, # Calculation of losses = False\n",
    "                              ckind='E')  # Use exponential shaped wavefunctions\n",
    "        # Add photons with exponential wavefunctions \n",
    "        # at time t, frequency f and characteristic decay time\n",
    "        p2=example.add_photons(0, 0, t= t2, f = 1.0, w = 0.01);\n",
    "        p1=example.add_photons(0, 1, t= t1, f = 1.0, w = 0.01);\n",
    "        example.add_photons( 1, 0, t=0.001, f = 1.0, w = 0.3);\n",
    "        example.add_photons( 1, 1, t= 3.011,f = 1.0, w = 0.3);\n",
    "        # Circuit\n",
    "        example.beamsplitter(0,1,45.0,0.0);\n",
    "        example.delay(1);\n",
    "        example.beamsplitter(0,1,45.0,0.0);\n",
    "        # Detectors\n",
    "        example.detector(0);\n",
    "        example.detector(1);\n",
    "\n",
    "        # Run simulator\n",
    "        measured=sim.run(example)\n",
    "\n",
    "        # Calcualte probability for each bin\n",
    "        dt=t1-t2;\n",
    "        term=[[0 , 1 ],\n",
    "              [0 , 0 ],\n",
    "              [p1, p2],\n",
    "              [1 , 1 ]]\n",
    "\n",
    "        k=math.floor(dt/delta);\n",
    "        if(k>0): \n",
    "            prob[k]=prob[k]+measured.prob(term,example);\n",
    "        \n",
    "        # Advance time\n",
    "        t2=t2+delta\n",
    "    # Advance time\n",
    "    t1=t1+delta\n"
   ]
  },
  {
   "cell_type": "markdown",
   "id": "c9e93597",
   "metadata": {},
   "source": [
    "Normalization of the output"
   ]
  },
  {
   "cell_type": "code",
   "execution_count": 4,
   "id": "b5c9885f",
   "metadata": {},
   "outputs": [],
   "source": [
    "# Normalization\n",
    "norm=0.0\n",
    "time=np.zeros(N) \n",
    "for k in range(0,N):\n",
    "    norm=max(norm,prob[k])\n",
    "    time[k]=k*delta\n",
    "    \n",
    "for k in range(0,N):\n",
    "    prob[k]=prob[k]/norm"
   ]
  },
  {
   "cell_type": "markdown",
   "id": "a8b9b861",
   "metadata": {},
   "source": [
    "Here we plot the probability as function of delay time dt."
   ]
  },
  {
   "cell_type": "code",
   "execution_count": 5,
   "id": "c5c4f90d",
   "metadata": {},
   "outputs": [
    {
     "data": {
      "image/png": "[encoded data removed]",
      "text/plain": [
       "<Figure size 432x360 with 1 Axes>"
      ]
     },
     "metadata": {
      "needs_background": "light"
     },
     "output_type": "display_data"
    }
   ],
   "source": [
    "# Print on screen\n",
    "soqcs.plot_data([prob],time, 6, 5,'dt', 0, dtm, 4, 'P', 0.0 , 1.0, 3, 11,['b'])\n"
   ]
  },
  {
   "cell_type": "markdown",
   "id": "1563cd68",
   "metadata": {},
   "source": [
    "**THIS CODE IS PART OF SOQCS** <br>\n",
    "\n",
    "**Copyright:** <br>\n",
    "Copyright © 2023 National University of Ireland Maynooth, Maynooth University. All rights reserved.\n",
    "The contents and use of this document and the related code are subject to the licence terms detailed in <a href=\"./assets/LICENCE.TXT\">LICENCE.txt</a>"
   ]
  }
 ],
 "metadata": {
  "kernelspec": {
   "display_name": "Python 3",
   "language": "python",
   "name": "python3"
  },
  "language_info": {
   "codemirror_mode": {
    "name": "ipython",
    "version": 3
   },
   "file_extension": ".py",
   "mimetype": "text/x-python",
   "name": "python",
   "nbconvert_exporter": "python",
   "pygments_lexer": "ipython3",
   "version": "3.8.8"
  }
 },
 "nbformat": 4,
 "nbformat_minor": 5
}
